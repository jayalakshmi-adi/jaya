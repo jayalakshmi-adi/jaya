{
  "nbformat": 4,
  "nbformat_minor": 0,
  "metadata": {
    "colab": {
      "provenance": []
    },
    "kernelspec": {
      "name": "python3",
      "display_name": "Python 3"
    },
    "language_info": {
      "name": "python"
    }
  },
  "cells": [
    {
      "cell_type": "markdown",
      "source": [
        "# Hand Written Digit Prediction-Classification Analysis"
      ],
      "metadata": {
        "id": "Pla9ek2HlhjO"
      }
    },
    {
      "cell_type": "markdown",
      "source": [
        "The digits dataset consists of 8x8 pixell images of digits.The images attribute of the dataset stores 8x8 arrays of grayscale values for each image.We will use these arrays to visualize the first four images.The target attribute of the dataset stores the digit each image represents"
      ],
      "metadata": {
        "id": "sZ5_8mcGlxyy"
      }
    },
    {
      "cell_type": "markdown",
      "source": [
        "# Import Library "
      ],
      "metadata": {
        "id": "QRRKU6PDmWH0"
      }
    },
    {
      "cell_type": "code",
      "source": [
        "import pandas as pd"
      ],
      "metadata": {
        "id": "rlVNYegNmeQ6"
      },
      "execution_count": 1,
      "outputs": []
    },
    {
      "cell_type": "code",
      "source": [
        "import numpy as np"
      ],
      "metadata": {
        "id": "cmJCKcAlmg3T"
      },
      "execution_count": 2,
      "outputs": []
    },
    {
      "cell_type": "code",
      "source": [
        "import matplotlib.pyplot as plt"
      ],
      "metadata": {
        "id": "MFhO1LtYmk-J"
      },
      "execution_count": 3,
      "outputs": []
    },
    {
      "cell_type": "markdown",
      "source": [
        "# Import Data"
      ],
      "metadata": {
        "id": "SkVfZDdrmvl5"
      }
    },
    {
      "cell_type": "code",
      "source": [
        "from sklearn.datasets import load_digits"
      ],
      "metadata": {
        "id": "g07sRAGSm1Sd"
      },
      "execution_count": 4,
      "outputs": []
    },
    {
      "cell_type": "code",
      "source": [
        "df=load_digits()"
      ],
      "metadata": {
        "id": "D9fs0RMcm7ZT"
      },
      "execution_count": 6,
      "outputs": []
    },
    {
      "cell_type": "code",
      "source": [
        "_,axes=plt.subplots(nrows=1,ncols=4,figsize=(10,3))\n",
        "for ax,image,label in zip(axes,df.images,df.target):\n",
        "  ax.set_axis_off()\n",
        "  ax.imshow(image,cmap=plt.cm.gray_r,interpolation=\"nearest\")\n",
        "  ax.set_title(\"Training:%i\"%label)"
      ],
      "metadata": {
        "colab": {
          "base_uri": "https://localhost:8080/",
          "height": 227
        },
        "id": "FUe6sQdTm_Jv",
        "outputId": "cec4147c-95c3-4080-beb1-5384e6a02201"
      },
      "execution_count": 8,
      "outputs": [
        {
          "output_type": "display_data",
          "data": {
            "text/plain": [
              "<Figure size 1000x300 with 4 Axes>"
            ],
            "image/png": "[encoded data removed]"
          },
          "metadata": {}
        }
      ]
    },
    {
      "cell_type": "markdown",
      "source": [
        "# Data Preprocessing"
      ],
      "metadata": {
        "id": "m5fiLWmRoH9T"
      }
    },
    {
      "cell_type": "code",
      "source": [
        "df.images.shape"
      ],
      "metadata": {
        "colab": {
          "base_uri": "https://localhost:8080/"
        },
        "id": "hJoiDdcIoSVn",
        "outputId": "7e1b202e-182d-40a9-c7e3-9be35be0b159"
      },
      "execution_count": 9,
      "outputs": [
        {
          "output_type": "execute_result",
          "data": {
            "text/plain": [
              "(1797, 8, 8)"
            ]
          },
          "metadata": {},
          "execution_count": 9
        }
      ]
    },
    {
      "cell_type": "code",
      "source": [
        "df.images[0]"
      ],
      "metadata": {
        "colab": {
          "base_uri": "https://localhost:8080/"
        },
        "id": "lWkSIgmLofNm",
        "outputId": "7915208d-bc2c-4bf1-997e-22c50d6ce657"
      },
      "execution_count": 10,
      "outputs": [
        {
          "output_type": "execute_result",
          "data": {
            "text/plain": [
              "array([[ 0.,  0.,  5., 13.,  9.,  1.,  0.,  0.],\n",
              "       [ 0.,  0., 13., 15., 10., 15.,  5.,  0.],\n",
              "       [ 0.,  3., 15.,  2.,  0., 11.,  8.,  0.],\n",
              "       [ 0.,  4., 12.,  0.,  0.,  8.,  8.,  0.],\n",
              "       [ 0.,  5.,  8.,  0.,  0.,  9.,  8.,  0.],\n",
              "       [ 0.,  4., 11.,  0.,  1., 12.,  7.,  0.],\n",
              "       [ 0.,  2., 14.,  5., 10., 12.,  0.,  0.],\n",
              "       [ 0.,  0.,  6., 13., 10.,  0.,  0.,  0.]])"
            ]
          },
          "metadata": {},
          "execution_count": 10
        }
      ]
    },
    {
      "cell_type": "code",
      "source": [
        "df.images[0].shape"
      ],
      "metadata": {
        "colab": {
          "base_uri": "https://localhost:8080/"
        },
        "id": "IuHj1FWwoiK6",
        "outputId": "e19c8339-c402-4d49-b2a3-29e89f2798dd"
      },
      "execution_count": 11,
      "outputs": [
        {
          "output_type": "execute_result",
          "data": {
            "text/plain": [
              "(8, 8)"
            ]
          },
          "metadata": {},
          "execution_count": 11
        }
      ]
    },
    {
      "cell_type": "code",
      "source": [
        "len(df.images)"
      ],
      "metadata": {
        "colab": {
          "base_uri": "https://localhost:8080/"
        },
        "id": "vOhVlS3ColqW",
        "outputId": "ca1b6d52-e578-4870-f7da-04a3d7943a0e"
      },
      "execution_count": 12,
      "outputs": [
        {
          "output_type": "execute_result",
          "data": {
            "text/plain": [
              "1797"
            ]
          },
          "metadata": {},
          "execution_count": 12
        }
      ]
    },
    {
      "cell_type": "code",
      "source": [
        "n_samples=len(df.images)\n",
        "data=df.images.reshape((n_samples,-1))"
      ],
      "metadata": {
        "id": "rLadN7HPoqEn"
      },
      "execution_count": 13,
      "outputs": []
    },
    {
      "cell_type": "code",
      "source": [
        "data[0]"
      ],
      "metadata": {
        "colab": {
          "base_uri": "https://localhost:8080/"
        },
        "id": "kv887vJco7ib",
        "outputId": "d2e67d6f-91dd-42a8-9bb8-81807bd76535"
      },
      "execution_count": 14,
      "outputs": [
        {
          "output_type": "execute_result",
          "data": {
            "text/plain": [
              "array([ 0.,  0.,  5., 13.,  9.,  1.,  0.,  0.,  0.,  0., 13., 15., 10.,\n",
              "       15.,  5.,  0.,  0.,  3., 15.,  2.,  0., 11.,  8.,  0.,  0.,  4.,\n",
              "       12.,  0.,  0.,  8.,  8.,  0.,  0.,  5.,  8.,  0.,  0.,  9.,  8.,\n",
              "        0.,  0.,  4., 11.,  0.,  1., 12.,  7.,  0.,  0.,  2., 14.,  5.,\n",
              "       10., 12.,  0.,  0.,  0.,  0.,  6., 13., 10.,  0.,  0.,  0.])"
            ]
          },
          "metadata": {},
          "execution_count": 14
        }
      ]
    },
    {
      "cell_type": "code",
      "source": [
        "data[0].shape"
      ],
      "metadata": {
        "colab": {
          "base_uri": "https://localhost:8080/"
        },
        "id": "hKHiiQUDo-84",
        "outputId": "114a302d-72d1-46fe-90a3-bec57e85da77"
      },
      "execution_count": 15,
      "outputs": [
        {
          "output_type": "execute_result",
          "data": {
            "text/plain": [
              "(64,)"
            ]
          },
          "metadata": {},
          "execution_count": 15
        }
      ]
    },
    {
      "cell_type": "code",
      "source": [
        "data.shape"
      ],
      "metadata": {
        "colab": {
          "base_uri": "https://localhost:8080/"
        },
        "id": "8udAcRutpBvh",
        "outputId": "df20f88c-bb1b-4be4-bd47-81170ea87b9f"
      },
      "execution_count": 16,
      "outputs": [
        {
          "output_type": "execute_result",
          "data": {
            "text/plain": [
              "(1797, 64)"
            ]
          },
          "metadata": {},
          "execution_count": 16
        }
      ]
    },
    {
      "cell_type": "markdown",
      "source": [
        "# Scaling Image Data"
      ],
      "metadata": {
        "id": "Kj4TZj9SpETH"
      }
    },
    {
      "cell_type": "code",
      "source": [
        "data.min()"
      ],
      "metadata": {
        "colab": {
          "base_uri": "https://localhost:8080/"
        },
        "id": "5xUOMvcXpKt4",
        "outputId": "fad3ce63-454b-4d7c-b9ea-9e3e828aef16"
      },
      "execution_count": 17,
      "outputs": [
        {
          "output_type": "execute_result",
          "data": {
            "text/plain": [
              "0.0"
            ]
          },
          "metadata": {},
          "execution_count": 17
        }
      ]
    },
    {
      "cell_type": "code",
      "source": [
        "data.max()"
      ],
      "metadata": {
        "colab": {
          "base_uri": "https://localhost:8080/"
        },
        "id": "-8oKabtMpPQ8",
        "outputId": "36d09eaf-1bae-4bd5-cd3a-5fe179c8f7ba"
      },
      "execution_count": 18,
      "outputs": [
        {
          "output_type": "execute_result",
          "data": {
            "text/plain": [
              "16.0"
            ]
          },
          "metadata": {},
          "execution_count": 18
        }
      ]
    },
    {
      "cell_type": "code",
      "source": [
        "data=data/16"
      ],
      "metadata": {
        "id": "3BAeUX_JpRqb"
      },
      "execution_count": 19,
      "outputs": []
    },
    {
      "cell_type": "code",
      "source": [
        "data.max()"
      ],
      "metadata": {
        "colab": {
          "base_uri": "https://localhost:8080/"
        },
        "id": "_wuvKMB_pUR1",
        "outputId": "fabcdffb-3ff5-467b-91ce-0d1eb41126a1"
      },
      "execution_count": 20,
      "outputs": [
        {
          "output_type": "execute_result",
          "data": {
            "text/plain": [
              "1.0"
            ]
          },
          "metadata": {},
          "execution_count": 20
        }
      ]
    },
    {
      "cell_type": "code",
      "source": [
        "data[0]"
      ],
      "metadata": {
        "colab": {
          "base_uri": "https://localhost:8080/"
        },
        "id": "uolVqh5bpWZ-",
        "outputId": "b08ac80b-2b77-4fcb-e172-1af3c86a711b"
      },
      "execution_count": 21,
      "outputs": [
        {
          "output_type": "execute_result",
          "data": {
            "text/plain": [
              "array([0.    , 0.    , 0.3125, 0.8125, 0.5625, 0.0625, 0.    , 0.    ,\n",
              "       0.    , 0.    , 0.8125, 0.9375, 0.625 , 0.9375, 0.3125, 0.    ,\n",
              "       0.    , 0.1875, 0.9375, 0.125 , 0.    , 0.6875, 0.5   , 0.    ,\n",
              "       0.    , 0.25  , 0.75  , 0.    , 0.    , 0.5   , 0.5   , 0.    ,\n",
              "       0.    , 0.3125, 0.5   , 0.    , 0.    , 0.5625, 0.5   , 0.    ,\n",
              "       0.    , 0.25  , 0.6875, 0.    , 0.0625, 0.75  , 0.4375, 0.    ,\n",
              "       0.    , 0.125 , 0.875 , 0.3125, 0.625 , 0.75  , 0.    , 0.    ,\n",
              "       0.    , 0.    , 0.375 , 0.8125, 0.625 , 0.    , 0.    , 0.    ])"
            ]
          },
          "metadata": {},
          "execution_count": 21
        }
      ]
    },
    {
      "cell_type": "markdown",
      "source": [
        "# Train Test Split Data"
      ],
      "metadata": {
        "id": "bTFk63zfpfPg"
      }
    },
    {
      "cell_type": "code",
      "source": [
        "from sklearn.model_selection import train_test_split"
      ],
      "metadata": {
        "id": "AU85v8_Npken"
      },
      "execution_count": 22,
      "outputs": []
    },
    {
      "cell_type": "code",
      "source": [
        "x_train,x_test,y_train,y_test=train_test_split(data,df.target,test_size=0.3)"
      ],
      "metadata": {
        "id": "7EZwLEuFpteR"
      },
      "execution_count": 23,
      "outputs": []
    },
    {
      "cell_type": "code",
      "source": [
        "x_train.shape,x_test.shape,y_train.shape,y_test.shape"
      ],
      "metadata": {
        "colab": {
          "base_uri": "https://localhost:8080/"
        },
        "id": "dfvRrSunp5iy",
        "outputId": "6b64e778-41c2-42c9-8406-147c1f343502"
      },
      "execution_count": 24,
      "outputs": [
        {
          "output_type": "execute_result",
          "data": {
            "text/plain": [
              "((1257, 64), (540, 64), (1257,), (540,))"
            ]
          },
          "metadata": {},
          "execution_count": 24
        }
      ]
    },
    {
      "cell_type": "markdown",
      "source": [
        "# Random Forest Model"
      ],
      "metadata": {
        "id": "vxNnNIPAqDuS"
      }
    },
    {
      "cell_type": "code",
      "source": [
        "from sklearn.ensemble import RandomForestClassifier"
      ],
      "metadata": {
        "id": "iauyerdqqJgJ"
      },
      "execution_count": 26,
      "outputs": []
    },
    {
      "cell_type": "code",
      "source": [
        "rf=RandomForestClassifier()"
      ],
      "metadata": {
        "id": "7cBMXhXQqTAI"
      },
      "execution_count": 27,
      "outputs": []
    },
    {
      "cell_type": "code",
      "source": [
        "rf.fit(x_train,y_train)"
      ],
      "metadata": {
        "colab": {
          "base_uri": "https://localhost:8080/",
          "height": 75
        },
        "id": "hbhcOceRqjAV",
        "outputId": "dd43876a-4536-4a53-e374-9aa4f8b47fa4"
      },
      "execution_count": 28,
      "outputs": [
        {
          "output_type": "execute_result",
          "data": {
            "text/plain": [
              "RandomForestClassifier()"
            ],
            "text/html": [
              "<style>#sk-container-id-1 {color: black;background-color: white;}#sk-container-id-1 pre{padding: 0;}#sk-container-id-1 div.sk-toggleable {background-color: white;}#sk-container-id-1 label.sk-toggleable__label {cursor: pointer;display: block;width: 100%;margin-bottom: 0;padding: 0.3em;box-sizing: border-box;text-align: center;}#sk-container-id-1 label.sk-toggleable__label-arrow:before {content: \"▸\";float: left;margin-right: 0.25em;color: #696969;}#sk-container-id-1 label.sk-toggleable__label-arrow:hover:before {color: black;}#sk-container-id-1 div.sk-estimator:hover label.sk-toggleable__label-arrow:before {color: black;}#sk-container-id-1 div.sk-toggleable__content {max-height: 0;max-width: 0;overflow: hidden;text-align: left;background-color: #f0f8ff;}#sk-container-id-1 div.sk-toggleable__content pre {margin: 0.2em;color: black;border-radius: 0.25em;background-color: #f0f8ff;}#sk-container-id-1 input.sk-toggleable__control:checked~div.sk-toggleable__content {max-height: 200px;max-width: 100%;overflow: auto;}#sk-container-id-1 input.sk-toggleable__control:checked~label.sk-toggleable__label-arrow:before {content: \"▾\";}#sk-container-id-1 div.sk-estimator input.sk-toggleable__control:checked~label.sk-toggleable__label {background-color: #d4ebff;}#sk-container-id-1 div.sk-label input.sk-toggleable__control:checked~label.sk-toggleable__label {background-color: #d4ebff;}#sk-container-id-1 input.sk-hidden--visually {border: 0;clip: rect(1px 1px 1px 1px);clip: rect(1px, 1px, 1px, 1px);height: 1px;margin: -1px;overflow: hidden;padding: 0;position: absolute;width: 1px;}#sk-container-id-1 div.sk-estimator {font-family: monospace;background-color: #f0f8ff;border: 1px dotted black;border-radius: 0.25em;box-sizing: border-box;margin-bottom: 0.5em;}#sk-container-id-1 div.sk-estimator:hover {background-color: #d4ebff;}#sk-container-id-1 div.sk-parallel-item::after {content: \"\";width: 100%;border-bottom: 1px solid gray;flex-grow: 1;}#sk-container-id-1 div.sk-label:hover label.sk-toggleable__label {background-color: #d4ebff;}#sk-container-id-1 div.sk-serial::before {content: \"\";position: absolute;border-left: 1px solid gray;box-sizing: border-box;top: 0;bottom: 0;left: 50%;z-index: 0;}#sk-container-id-1 div.sk-serial {display: flex;flex-direction: column;align-items: center;background-color: white;padding-right: 0.2em;padding-left: 0.2em;position: relative;}#sk-container-id-1 div.sk-item {position: relative;z-index: 1;}#sk-container-id-1 div.sk-parallel {display: flex;align-items: stretch;justify-content: center;background-color: white;position: relative;}#sk-container-id-1 div.sk-item::before, #sk-container-id-1 div.sk-parallel-item::before {content: \"\";position: absolute;border-left: 1px solid gray;box-sizing: border-box;top: 0;bottom: 0;left: 50%;z-index: -1;}#sk-container-id-1 div.sk-parallel-item {display: flex;flex-direction: column;z-index: 1;position: relative;background-color: white;}#sk-container-id-1 div.sk-parallel-item:first-child::after {align-self: flex-end;width: 50%;}#sk-container-id-1 div.sk-parallel-item:last-child::after {align-self: flex-start;width: 50%;}#sk-container-id-1 div.sk-parallel-item:only-child::after {width: 0;}#sk-container-id-1 div.sk-dashed-wrapped {border: 1px dashed gray;margin: 0 0.4em 0.5em 0.4em;box-sizing: border-box;padding-bottom: 0.4em;background-color: white;}#sk-container-id-1 div.sk-label label {font-family: monospace;font-weight: bold;display: inline-block;line-height: 1.2em;}#sk-container-id-1 div.sk-label-container {text-align: center;}#sk-container-id-1 div.sk-container {/* jupyter's `normalize.less` sets `[hidden] { display: none; }` but bootstrap.min.css set `[hidden] { display: none !important; }` so we also need the `!important` here to be able to override the default hidden behavior on the sphinx rendered scikit-learn.org. See: https://github.com/scikit-learn/scikit-learn/issues/21755 */display: inline-block !important;position: relative;}#sk-container-id-1 div.sk-text-repr-fallback {display: none;}</style><div id=\"sk-container-id-1\" class=\"sk-top-container\"><div class=\"sk-text-repr-fallback\"><pre>RandomForestClassifier()</pre><b>In a Jupyter environment, please rerun this cell to show the HTML representation or trust the notebook. <br />On GitHub, the HTML representation is unable to render, please try loading this page with nbviewer.org.</b></div><div class=\"sk-container\" hidden><div class=\"sk-item\"><div class=\"sk-estimator sk-toggleable\"><input class=\"sk-toggleable__control sk-hidden--visually\" id=\"sk-estimator-id-1\" type=\"checkbox\" checked><label for=\"sk-estimator-id-1\" class=\"sk-toggleable__label sk-toggleable__label-arrow\">RandomForestClassifier</label><div class=\"sk-toggleable__content\"><pre>RandomForestClassifier()</pre></div></div></div></div></div>"
            ]
          },
          "metadata": {},
          "execution_count": 28
        }
      ]
    },
    {
      "cell_type": "markdown",
      "source": [
        "# Predict Test Data"
      ],
      "metadata": {
        "id": "Xbc8Q_0NqoWd"
      }
    },
    {
      "cell_type": "code",
      "source": [
        "y_pred=rf.predict(x_test)"
      ],
      "metadata": {
        "id": "VVhxojQUqs1C"
      },
      "execution_count": 29,
      "outputs": []
    },
    {
      "cell_type": "code",
      "source": [
        "y_pred"
      ],
      "metadata": {
        "colab": {
          "base_uri": "https://localhost:8080/"
        },
        "id": "ItWFLqE_qx2F",
        "outputId": "5b69dd8f-a3a8-4b18-9a7d-9ce1684a9693"
      },
      "execution_count": 30,
      "outputs": [
        {
          "output_type": "execute_result",
          "data": {
            "text/plain": [
              "array([8, 3, 0, 2, 7, 8, 9, 6, 9, 0, 0, 6, 5, 2, 7, 8, 9, 8, 3, 5, 5, 1,\n",
              "       9, 3, 0, 3, 1, 3, 8, 5, 8, 7, 7, 9, 8, 1, 8, 6, 9, 2, 9, 5, 0, 0,\n",
              "       5, 5, 7, 3, 2, 7, 3, 6, 3, 2, 1, 7, 7, 4, 2, 4, 0, 7, 7, 1, 8, 4,\n",
              "       7, 6, 6, 0, 7, 3, 5, 9, 1, 3, 6, 6, 8, 8, 6, 9, 6, 4, 4, 6, 5, 3,\n",
              "       8, 6, 7, 0, 3, 1, 4, 9, 9, 9, 2, 5, 3, 9, 6, 7, 4, 1, 3, 5, 0, 7,\n",
              "       4, 4, 6, 8, 9, 7, 5, 7, 4, 1, 4, 7, 4, 8, 9, 6, 5, 4, 7, 8, 1, 3,\n",
              "       2, 0, 4, 7, 2, 5, 8, 1, 9, 2, 3, 7, 7, 8, 7, 4, 6, 3, 5, 1, 5, 4,\n",
              "       5, 8, 1, 7, 6, 1, 5, 4, 2, 0, 5, 8, 7, 8, 1, 1, 5, 2, 0, 0, 6, 2,\n",
              "       6, 2, 4, 9, 6, 1, 6, 6, 0, 7, 1, 3, 6, 6, 1, 2, 8, 4, 6, 9, 8, 8,\n",
              "       4, 7, 4, 1, 0, 1, 1, 2, 6, 2, 6, 1, 3, 6, 3, 4, 0, 4, 0, 7, 2, 1,\n",
              "       5, 9, 1, 0, 0, 0, 7, 3, 6, 2, 5, 2, 9, 5, 1, 6, 8, 5, 8, 8, 4, 8,\n",
              "       2, 4, 4, 9, 9, 9, 2, 0, 5, 7, 5, 2, 6, 3, 8, 6, 1, 8, 7, 4, 5, 9,\n",
              "       2, 5, 2, 0, 5, 2, 4, 4, 5, 6, 3, 9, 6, 5, 6, 1, 2, 0, 7, 5, 6, 9,\n",
              "       8, 1, 1, 4, 9, 6, 2, 4, 5, 3, 3, 0, 8, 4, 1, 7, 5, 1, 6, 7, 0, 4,\n",
              "       6, 9, 5, 2, 1, 7, 4, 1, 7, 1, 2, 8, 4, 2, 9, 1, 2, 8, 4, 8, 4, 7,\n",
              "       1, 7, 9, 3, 7, 6, 1, 4, 2, 5, 1, 0, 8, 1, 7, 5, 4, 2, 7, 9, 3, 6,\n",
              "       0, 2, 1, 4, 3, 1, 3, 3, 2, 0, 6, 9, 0, 8, 9, 9, 1, 1, 6, 2, 2, 0,\n",
              "       6, 8, 7, 2, 2, 0, 8, 4, 8, 6, 0, 4, 4, 9, 9, 3, 5, 9, 1, 8, 5, 4,\n",
              "       8, 8, 6, 8, 8, 3, 0, 8, 3, 6, 9, 1, 0, 1, 1, 0, 9, 7, 1, 5, 4, 3,\n",
              "       9, 0, 5, 3, 1, 3, 3, 8, 7, 4, 3, 1, 8, 6, 3, 8, 0, 3, 6, 0, 5, 8,\n",
              "       4, 1, 7, 9, 9, 1, 9, 5, 3, 3, 7, 3, 0, 0, 5, 3, 1, 1, 0, 0, 1, 9,\n",
              "       8, 2, 7, 6, 7, 5, 2, 5, 8, 3, 5, 3, 0, 2, 5, 1, 5, 7, 9, 6, 9, 0,\n",
              "       5, 4, 3, 4, 1, 9, 7, 5, 5, 4, 9, 6, 9, 6, 5, 6, 7, 6, 4, 1, 5, 0,\n",
              "       5, 4, 0, 5, 1, 8, 8, 4, 9, 2, 3, 7, 0, 0, 6, 0, 1, 4, 6, 1, 1, 6,\n",
              "       2, 4, 5, 0, 2, 1, 1, 8, 0, 7, 2, 7])"
            ]
          },
          "metadata": {},
          "execution_count": 30
        }
      ]
    },
    {
      "cell_type": "markdown",
      "source": [
        "# Model Accuracy"
      ],
      "metadata": {
        "id": "BHKpsRaDq1-4"
      }
    },
    {
      "cell_type": "code",
      "source": [
        "from sklearn.metrics import confusion_matrix,classification_report"
      ],
      "metadata": {
        "id": "KRsAgV2Zq7pV"
      },
      "execution_count": 31,
      "outputs": []
    },
    {
      "cell_type": "code",
      "source": [
        "confusion_matrix(y_test,y_pred)"
      ],
      "metadata": {
        "colab": {
          "base_uri": "https://localhost:8080/"
        },
        "id": "0Hw4qBUTrKjc",
        "outputId": "26fbdcf6-2afc-4a19-a994-6e436113f23d"
      },
      "execution_count": 32,
      "outputs": [
        {
          "output_type": "execute_result",
          "data": {
            "text/plain": [
              "array([[51,  0,  0,  0,  0,  0,  0,  0,  0,  0],\n",
              "       [ 0, 62,  0,  0,  0,  0,  1,  0,  1,  0],\n",
              "       [ 1,  1, 46,  2,  0,  0,  0,  0,  0,  1],\n",
              "       [ 0,  0,  0, 46,  0,  0,  0,  0,  1,  1],\n",
              "       [ 0,  0,  0,  0, 55,  0,  0,  2,  0,  0],\n",
              "       [ 0,  0,  0,  0,  0, 56,  1,  0,  1,  2],\n",
              "       [ 0,  0,  0,  0,  0,  0, 56,  0,  0,  0],\n",
              "       [ 0,  0,  0,  0,  0,  0,  0, 52,  0,  0],\n",
              "       [ 0,  2,  1,  0,  0,  0,  0,  0, 50,  0],\n",
              "       [ 0,  0,  0,  0,  0,  1,  0,  0,  1, 46]])"
            ]
          },
          "metadata": {},
          "execution_count": 32
        }
      ]
    },
    {
      "cell_type": "code",
      "source": [
        "print(classification_report(y_test,y_pred))"
      ],
      "metadata": {
        "colab": {
          "base_uri": "https://localhost:8080/"
        },
        "id": "RWm2fnP9rQdR",
        "outputId": "763d2be1-bc33-4ee8-eded-79abd448c639"
      },
      "execution_count": 34,
      "outputs": [
        {
          "output_type": "stream",
          "name": "stdout",
          "text": [
            "              precision    recall  f1-score   support\n",
            "\n",
            "           0       0.98      1.00      0.99        51\n",
            "           1       0.95      0.97      0.96        64\n",
            "           2       0.98      0.90      0.94        51\n",
            "           3       0.96      0.96      0.96        48\n",
            "           4       1.00      0.96      0.98        57\n",
            "           5       0.98      0.93      0.96        60\n",
            "           6       0.97      1.00      0.98        56\n",
            "           7       0.96      1.00      0.98        52\n",
            "           8       0.93      0.94      0.93        53\n",
            "           9       0.92      0.96      0.94        48\n",
            "\n",
            "    accuracy                           0.96       540\n",
            "   macro avg       0.96      0.96      0.96       540\n",
            "weighted avg       0.96      0.96      0.96       540\n",
            "\n"
          ]
        }
      ]
    },
    {
      "cell_type": "code",
      "source": [],
      "metadata": {
        "id": "ji5WFM2vrYO6"
      },
      "execution_count": null,
      "outputs": []
    }
  ]
}